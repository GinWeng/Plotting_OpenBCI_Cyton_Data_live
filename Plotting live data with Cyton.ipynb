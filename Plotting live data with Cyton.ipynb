{
 "cells": [
  {
   "cell_type": "markdown",
   "metadata": {},
   "source": [
    "# Plotting live data from Cyton Board using Python\n",
    "\n",
    "## Notes:\n",
    "1. This notebook is being run on a Windonws 10 Laptop, using a Python3 environment.\n",
    "2. After you installed all the [dependencies](http://docs.openbci.com/OpenBCI%20Software/05-OpenBCI_Python) correctly you can start usign this tutorial\n",
    "2. Start this notebook from a command prompt with sudo or as administrator.\n",
    "\n",
    "### Importing necessary packages:\n",
    "The packages used for this tutorial are in the [requirements.txt](https://github.com/andreaortuno/Plotting_OpenBCI_Cyton_Data_live/blob/master/requirements.txt) file. You can simply download that file and install the requirements by typying \"pip install -r requirements.txt\" on the command line.\n",
    "\n",
    "If you are having trouble with the plugin_interface you might need to use [this workaround](https://github.com/OpenBCI/OpenBCI_Python/issues/91#issuecomment-412817422)\n",
    "\n",
    "#### First let's import the necessary packages\n"
   ]
  },
  {
   "cell_type": "code",
   "execution_count": null,
   "metadata": {},
   "outputs": [],
   "source": [
    "from IPython.display import clear_output\n",
    "import matplotlib.pyplot as plt\n",
    "import numpy as np\n",
    "import collections\n",
    "%matplotlib inline\n",
    "\n",
    "import sys; sys.path.append('..') # help python find cyton.py relative to scripts folder\n",
    "from openbci import cyton as bci\n",
    "import logging\n",
    "import time\n",
    "import datetime as dt\n",
    "from scipy import signal"
   ]
  },
  {
   "cell_type": "markdown",
   "metadata": {},
   "source": [
    "#### Now let's try to run the [test code](https://github.com/OpenBCI/OpenBCI_Python/blob/master/scripts/test.py) from the OpenBCI-Python repo\n",
    "\n",
    "We are doing this to make sure all the dependencies are installed correctly. When working this code should print the raw data of the board. If everything is working correctly you can press crtl+C to end the script."
   ]
  },
  {
   "cell_type": "code",
   "execution_count": null,
   "metadata": {},
   "outputs": [],
   "source": [
    "def printData(sample):\n",
    "    # os.system('clear')\n",
    "    print(\"----------------\")\n",
    "    print(\"%f\" % (sample.id))\n",
    "    print(sample.channel_data)\n",
    "    print(sample.aux_data)\n",
    "    print(\"----------------\")\n",
    "\n",
    "if __name__ == '__main__':\n",
    "    port = 'COM5'\n",
    "    baud = 115200\n",
    "    logging.basicConfig(filename=\"test.log\", format='%(asctime)s -%(levelname)s : %(message)s', level=logging.DEBUG)\n",
    "    logging.info('--------------LOG START ------------')\n",
    "    board = bci.OpenBCICyton(port=port, scaled_output=False, log=True)\n",
    "    print(\"Board Instantiated\")\n",
    "    board.ser.write(str.encode('v'))\n",
    "    time.sleep(10)\n",
    "    board.start_streaming(printData)\n",
    "    board.print_bytes_in()"
   ]
  },
  {
   "cell_type": "markdown",
   "metadata": {},
   "source": [
    "#### Now we can add code to be able to plot the data\n",
    "\n",
    "We will define a simple funtion live_plot to plot the raw data onto the notebook. We also need to define another fuction, let's call it \"data_process\", that takes in the raw data from the board, stores it in a global variable and allows us to dynamically change the plot as we get more signals and calls on the live_plot function. For this example let's plot only the first 5 channels."
   ]
  },
  {
   "cell_type": "code",
   "execution_count": null,
   "metadata": {},
   "outputs": [],
   "source": [
    "def live_plot(sample, figsize=(17,16)):\n",
    "    data = np.array(sample)\n",
    "    clear_output(wait=True)\n",
    "    plt.figure(figsize=figsize)\n",
    "    color = 'rgbycmkr'\n",
    "    labels = ['Channel 1', 'Channel 2', 'Channel 3', 'Channel 4', 'Channel 5', 'Channel 6', 'Channel 7', 'Channel 8']\n",
    "    \n",
    "    try:\n",
    "        for j in range(5):\n",
    "            num = int('81'+str(j+1))\n",
    "            plt.subplot(num)\n",
    "            if j == 0:\n",
    "                plt.title(\"EEG Data\")\n",
    "            plt.plot(data[-40:][:,j], label=labels[j], scaley=True, color=color[j])\n",
    "            plt.autoscale(enable=True, axis='y', tight=None)\n",
    "        \n",
    "    except:\n",
    "        for j in range(5):\n",
    "            num = int('81'+str(j+1))\n",
    "            plt.subplot(num)\n",
    "            if j == 0:\n",
    "                plt.title(\"EEG Data\")\n",
    "            plt.plot(data[-40:][:,j], label=labels[j], scaley=True, color=color[j])\n",
    "            plt.autoscale(enable=True, axis='y', tight=None)\n",
    "            \n",
    "    plt.xlabel('time')\n",
    "    plt.legend(loc='center left') # the plot evolves to the right\n",
    "    plt.show();\n",
    "    \n",
    "    \n",
    "bci_data = []\n",
    "\n",
    "def data_process(sample):\n",
    "    global bci_data\n",
    "    Scale_Factor= (4.5/ 24) /(2^23 - 1) # specific for Cyton\n",
    "    data = [i * Scale_Factor for i in sample.channel_data]\n",
    "    bci_data.append(data)\n",
    "    live_plot(bci_data)"
   ]
  },
  {
   "cell_type": "markdown",
   "metadata": {},
   "source": [
    "Now let's run the code we just added."
   ]
  },
  {
   "cell_type": "code",
   "execution_count": null,
   "metadata": {},
   "outputs": [],
   "source": [
    "if __name__ == '__main__':\n",
    "    port = 'COM5'\n",
    "    baud = 115200\n",
    "    logging.basicConfig(filename=\"test.log\", format='%(asctime)s -%(levelname)s : %(message)s', level=logging.DEBUG)\n",
    "    logging.info('--------------LOG START ------------')\n",
    "    board = bci.OpenBCICyton(port=port, scaled_output=False, log=True)\n",
    "    print(\"Board Instantiated\")\n",
    "    board.ser.write(str.encode('v'))\n",
    "    time.sleep(10)\n",
    "    board.start_streaming(data_process)\n",
    "    board.print_bytes_in()"
   ]
  },
  {
   "cell_type": "markdown",
   "metadata": {},
   "source": [
    "The graph is a bit slow, but this is a great way to start to understand how to use the OpenBCI data for your application.\n",
    "\n",
    "#### Signal Processing:\n",
    "\n",
    "The next steps on your OpenBCI Python journey would be to do some signal processing. [Here](https://github.com/J77M/openbciGui_filter_test/blob/master/gui_saved_data_filter.ipynb) is a good example of some of the filters you can use with your OpenBCI data."
   ]
  },
  {
   "cell_type": "code",
   "execution_count": null,
   "metadata": {},
   "outputs": [],
   "source": []
  }
 ],
 "metadata": {
  "kernelspec": {
   "display_name": "env",
   "language": "python",
   "name": "env"
  },
  "language_info": {
   "codemirror_mode": {
    "name": "ipython",
    "version": 3
   },
   "file_extension": ".py",
   "mimetype": "text/x-python",
   "name": "python",
   "nbconvert_exporter": "python",
   "pygments_lexer": "ipython3",
   "version": "3.7.2"
  }
 },
 "nbformat": 4,
 "nbformat_minor": 2
}
